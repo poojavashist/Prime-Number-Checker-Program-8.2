{
 "cells": [
  {
   "cell_type": "code",
   "execution_count": 138,
   "metadata": {},
   "outputs": [
    {
     "name": "stdout",
     "output_type": "stream",
     "text": [
      "Check this number: 6\n",
      "not  a prime number\n"
     ]
    }
   ],
   "source": [
    "\n",
    "n = int(input(\"Check this number: \"))\n",
    "prime_checker(number=n)\n",
    "\n",
    "def prime_checker(number):\n",
    "    is_prime =True\n",
    "    for i in range(2, number):\n",
    "        if number % i == 0:\n",
    "            is_prime =False\n",
    "    if is_prime:\n",
    "        print(\" A prime number\")\n",
    "        \n",
    "    else:\n",
    "        print(\"Not  a prime number\")\n"
   ]
  },
  {
   "cell_type": "code",
   "execution_count": null,
   "metadata": {},
   "outputs": [],
   "source": []
  },
  {
   "cell_type": "code",
   "execution_count": null,
   "metadata": {},
   "outputs": [],
   "source": []
  }
 ],
 "metadata": {
  "kernelspec": {
   "display_name": "Python 3",
   "language": "python",
   "name": "python3"
  },
  "language_info": {
   "codemirror_mode": {
    "name": "ipython",
    "version": 3
   },
   "file_extension": ".py",
   "mimetype": "text/x-python",
   "name": "python",
   "nbconvert_exporter": "python",
   "pygments_lexer": "ipython3",
   "version": "3.8.3"
  }
 },
 "nbformat": 4,
 "nbformat_minor": 4
}
